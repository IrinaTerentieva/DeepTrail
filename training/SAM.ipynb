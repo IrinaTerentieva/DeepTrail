{
 "cells": [
  {
   "cell_type": "code",
   "execution_count": 3,
   "id": "c62a664d-bbba-42e8-a27b-c9ccd3794ea9",
   "metadata": {},
   "outputs": [
    {
     "ename": "ModuleNotFoundError",
     "evalue": "No module named 'leafmap'",
     "output_type": "error",
     "traceback": [
      "\u001b[0;31m---------------------------------------------------------------------------\u001b[0m",
      "\u001b[0;31mModuleNotFoundError\u001b[0m                       Traceback (most recent call last)",
      "Cell \u001b[0;32mIn[3], line 2\u001b[0m\n\u001b[1;32m      1\u001b[0m \u001b[38;5;28;01mimport\u001b[39;00m \u001b[38;5;21;01mos\u001b[39;00m\n\u001b[0;32m----> 2\u001b[0m \u001b[38;5;28;01mimport\u001b[39;00m \u001b[38;5;21;01mleafmap\u001b[39;00m\n\u001b[1;32m      3\u001b[0m \u001b[38;5;28;01mfrom\u001b[39;00m \u001b[38;5;21;01msamgeo\u001b[39;00m \u001b[38;5;28;01mimport\u001b[39;00m SamGeo, tms_to_geotiff\n",
      "\u001b[0;31mModuleNotFoundError\u001b[0m: No module named 'leafmap'"
     ]
    }
   ],
   "source": [
    "import os\n",
    "import leafmap\n",
    "from samgeo import SamGeo, tms_to_geotiff"
   ]
  },
  {
   "cell_type": "code",
   "execution_count": 2,
   "id": "b519cf95-3b1e-4e5c-9ca4-4e28a18033a6",
   "metadata": {},
   "outputs": [],
   "source": [
    "# !pip install leafmap\n"
   ]
  },
  {
   "cell_type": "code",
   "execution_count": null,
   "id": "77a2c4ef-75e8-4440-a9d4-6950e64aff75",
   "metadata": {},
   "outputs": [],
   "source": []
  }
 ],
 "metadata": {
  "kernelspec": {
   "display_name": "Python 3 (ipykernel)",
   "language": "python",
   "name": "python3"
  },
  "language_info": {
   "codemirror_mode": {
    "name": "ipython",
    "version": 3
   },
   "file_extension": ".py",
   "mimetype": "text/x-python",
   "name": "python",
   "nbconvert_exporter": "python",
   "pygments_lexer": "ipython3",
   "version": "3.12.7"
  }
 },
 "nbformat": 4,
 "nbformat_minor": 5
}
